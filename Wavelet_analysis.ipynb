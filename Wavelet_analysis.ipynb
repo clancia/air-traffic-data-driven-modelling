{
 "cells": [
  {
   "cell_type": "markdown",
   "metadata": {},
   "source": [
    "# Introduction\n",
    "\n",
    "Lorem ipsum dolor sit amet, consectetur adipiscing elit. Sed placerat pellentesque tortor at luctus. Cras varius dui odio, sit amet sodales ipsum ornare non. Mauris imperdiet interdum fermentum. Suspendisse ac nisl in dui feugiat pellentesque. In ac condimentum ligula. Nam nec arcu vel eros eleifend ultricies ut eu arcu. Phasellus dictum mauris a nunc tempor pellentesque vitae eget orci. Vestibulum gravida gravida ligula, eget rutrum dui pulvinar iaculis. Curabitur fermentum elementum purus, ac vulputate magna consectetur eu. Phasellus sodales facilisis tortor, nec iaculis ex aliquam a. Phasellus euismod justo a convallis tempus. Curabitur dignissim mi mauris.\n",
    "\n",
    "Maecenas congue ut lacus ac dapibus. Maecenas mollis, sem eget egestas pulvinar, eros augue aliquam neque, id porta neque lacus a augue. Vestibulum at pharetra velit, in facilisis mauris. Aenean sollicitudin elementum mi, eget pharetra nibh vestibulum sodales. Mauris in malesuada ipsum, vitae varius metus. Vestibulum non iaculis nibh. Pellentesque habitant morbi tristique senectus et netus et malesuada fames ac turpis egestas. Phasellus semper sodales metus id commodo. Quisque tincidunt, turpis quis imperdiet sollicitudin, ante dolor imperdiet nibh, nec iaculis risus massa non libero. Donec magna risus, dignissim eu semper ac, vestibulum quis tellus. Interdum et malesuada fames ac ante ipsum primis in faucibus. Integer eu justo non justo ullamcorper cursus eget vulputate erat. Nunc auctor quam posuere, varius dui in, accumsan mi. Donec aliquet lacus vitae orci ultricies feugiat. Proin viverra, felis vel euismod rutrum, ligula risus viverra orci, id maximus nisl urna vel neque. Integer sodales velit urna, in mattis leo ornare eu.\n",
    "\n",
    "Donec molestie eget lectus nec viverra. Nulla sed semper mauris, vitae suscipit mi. Vestibulum vel sodales magna. Vivamus laoreet vestibulum nibh, sed ornare lacus luctus id. Quisque fringilla lacus ac interdum iaculis. Aliquam accumsan nisl et libero dignissim eleifend. Sed magna enim, dictum sodales odio nec, interdum interdum tortor. Morbi sodales sem libero, in interdum diam cursus et. Quisque malesuada imperdiet sem, blandit luctus purus pharetra vel.\n",
    "\n",
    "# Data and Methods"
   ]
  },
  {
   "cell_type": "code",
   "execution_count": null,
   "metadata": {},
   "outputs": [],
   "source": [
    "import numpy as np\n",
    "import pandas as pd\n",
    "import matplotlib.pyplot as plt\n",
    "import pywt\n",
    "import atddm\n",
    "from constants import AIRPORTS, COLORS, TZONES, CODES, BEGDT, ENDDT\n",
    "import seaborn as sns\n",
    "from math import log2, floor\n",
    "from matplotlib import colors"
   ]
  },
  {
   "cell_type": "code",
   "execution_count": null,
   "metadata": {},
   "outputs": [],
   "source": [
    "BEGDT = pd.Timestamp(BEGDT)\n",
    "ENDDT = pd.Timestamp(ENDDT)\n",
    "INTERVAL = 10\n",
    "NLEVEL = 8\n",
    "WTYPE = 'db5'\n",
    "RYCMAP = colors.ListedColormap(['red', 'darkred',\n",
    "                                'coral', 'orangered',\n",
    "                                'goldenrod', 'darkgoldenrod',\n",
    "                                'limegreen', 'darkgreen',\n",
    "                                'lightseagreen', 'seagreen',\n",
    "                                'steelblue', 'cadetblue',\n",
    "                                'blue', 'navy',\n",
    "                                'darkviolet', 'purple'\n",
    "                               ])"
   ]
  },
  {
   "cell_type": "code",
   "execution_count": null,
   "metadata": {},
   "outputs": [],
   "source": [
    "dd = atddm.load(subset=CODES)\n",
    "m3_bin = {}\n",
    "# m1_bin = {}\n",
    "CODES.sort()\n",
    "\n",
    "for code in CODES:\n",
    "    indx = pd.date_range(start=BEGDT, end=ENDDT,\n",
    "                         freq=str(INTERVAL)+'min', tz=TZONES[code])\n",
    "    m3_bin[code] = atddm.binarrivals(dd[code].M3_FL240,\n",
    "                                     interval=INTERVAL,\n",
    "                                     tz=TZONES[code])[indx].fillna(0)\n",
    "#    m1_bin[code] = atddm.binarrivals(dd[code].M1_FL240,\n",
    "#                                     interval=INTERVAL,\n",
    "#                                     tz=TZONES[code])[indx].fillna(0)"
   ]
  },
  {
   "cell_type": "markdown",
   "metadata": {},
   "source": [
    "## Wavelet analysis"
   ]
  },
  {
   "cell_type": "code",
   "execution_count": null,
   "metadata": {},
   "outputs": [],
   "source": [
    "def findm(length, n=NLEVEL):\n",
    "    return floor(length/2**n)\n",
    "\n",
    "\n",
    "def trimmedindex(serie, nlev=NLEVEL):\n",
    "    m = findm(len(serie), nlev)\n",
    "    lenmax = m * 2**nlev\n",
    "    return serie.index[:lenmax]\n",
    "\n",
    "\n",
    "def wvlt_analysis(serie, wtype=WTYPE, nlev=NLEVEL):\n",
    "    df = pd.DataFrame(index=trimmedindex(serie, nlev))\n",
    "    # df['signal'] = serie.iloc[:len(df)]\n",
    "    x = serie.iloc[:len(df)]\n",
    "    for j in range(nlev):\n",
    "        level = j+1\n",
    "        ca, cd = pywt.dwt(x, wtype, mode='per')\n",
    "        x = np.copy(ca)\n",
    "        for i in range(level):\n",
    "            apx = pywt.idwt(ca, None, wtype, mode= 'per')\n",
    "            det = pywt.idwt(None, cd, wtype, mode= 'per')\n",
    "            ca = apx\n",
    "            cd = det\n",
    "        for lbl, vec in zip(['approx', 'detail'], [apx, det]):\n",
    "            label = 'level_{:d}_{:s}'.format(level, lbl)\n",
    "            df[label] = vec\n",
    "    colnames = []\n",
    "    for j in range(nlev):\n",
    "        level = j+1\n",
    "        for lbl in ['approx', 'detail']:\n",
    "            label = (level, lbl)\n",
    "            colnames.append(label)\n",
    "    df.columns = pd.MultiIndex.from_tuples(colnames, names=['level','type'])\n",
    "    df[(0, 'signal')] = serie.iloc[:len(df)]\n",
    "    return df.sort_index(axis=1)"
   ]
  },
  {
   "cell_type": "code",
   "execution_count": null,
   "metadata": {},
   "outputs": [],
   "source": [
    "# m1_wvlt = {}\n",
    "m3_wvlt = {}\n",
    "levels = 8\n",
    "for code in CODES:\n",
    "    # m1_wvlt[code] = wvlt_analysis(m1_bin[code], nlev=levels)\n",
    "    m3_wvlt[code] = wvlt_analysis(m3_bin[code], nlev=levels)\n",
    "titles = [('Level {:d} :: approximation'.format(i), \n",
    "           'Level {:d} :: detail'.format(i)) for i in range(1, levels+1)]\n",
    "titles = [item for sublist in titles for item in sublist]"
   ]
  },
  {
   "cell_type": "markdown",
   "metadata": {},
   "source": [
    "# Results\n",
    "\n",
    "## Frankfurt"
   ]
  },
  {
   "cell_type": "code",
   "execution_count": null,
   "metadata": {},
   "outputs": [],
   "source": [
    "f, axes = plt.subplots(levels, 2, figsize=(20,25))\n",
    "df = m3_wvlt['EDDF'].loc[:, (slice(1,8), slice(None))]\n",
    "df.plot(ax=axes, subplots=True, colormap=RYCMAP,\n",
    "        legend=False, title=titles)\n",
    "plt.tight_layout()\n",
    "plt.show()"
   ]
  },
  {
   "cell_type": "markdown",
   "metadata": {},
   "source": [
    "## London Heathrow"
   ]
  },
  {
   "cell_type": "code",
   "execution_count": null,
   "metadata": {},
   "outputs": [],
   "source": [
    "f, axes = plt.subplots(levels, 2, figsize=(20,24))\n",
    "df = m3_wvlt['EGLL'].loc[:, (slice(1,8), slice(None))]\n",
    "df.plot(ax=axes, subplots=True, colormap=RYCMAP,\n",
    "        legend=False, title=titles)\n",
    "plt.tight_layout()\n",
    "plt.show()"
   ]
  },
  {
   "cell_type": "markdown",
   "metadata": {},
   "source": [
    "## London Gatwick"
   ]
  },
  {
   "cell_type": "code",
   "execution_count": null,
   "metadata": {},
   "outputs": [],
   "source": [
    "f, axes = plt.subplots(levels, 2, figsize=(20,24))\n",
    "df = m3_wvlt['EGKK'].loc[:, (slice(1,8), slice(None))]\n",
    "df.plot(ax=axes, subplots=True, colormap=RYCMAP,\n",
    "        legend=False, title=titles)\n",
    "plt.tight_layout()\n",
    "plt.show()"
   ]
  },
  {
   "cell_type": "markdown",
   "metadata": {},
   "source": [
    "## Amsterdam Schiphol"
   ]
  },
  {
   "cell_type": "code",
   "execution_count": null,
   "metadata": {},
   "outputs": [],
   "source": [
    "f, axes = plt.subplots(levels, 2, figsize=(20,24))\n",
    "df = m3_wvlt['EHAM'].loc[:, (slice(1,8), slice(None))]\n",
    "df.plot(ax=axes, subplots=True, colormap=RYCMAP,\n",
    "        legend=False, title=titles)\n",
    "plt.tight_layout()\n",
    "plt.show()"
   ]
  },
  {
   "cell_type": "markdown",
   "metadata": {},
   "source": [
    "## Paris Charles de Gaulle"
   ]
  },
  {
   "cell_type": "code",
   "execution_count": null,
   "metadata": {},
   "outputs": [],
   "source": [
    "f, axes = plt.subplots(levels, 2, figsize=(20,24))\n",
    "df = m3_wvlt['LFPG'].loc[:, (slice(1,8), slice(None))]\n",
    "df.plot(ax=axes, subplots=True, colormap=RYCMAP,\n",
    "        legend=False, title=titles)\n",
    "plt.tight_layout()\n",
    "plt.show()"
   ]
  },
  {
   "cell_type": "markdown",
   "metadata": {},
   "source": [
    "## Madrid-Barajas"
   ]
  },
  {
   "cell_type": "code",
   "execution_count": null,
   "metadata": {},
   "outputs": [],
   "source": [
    "f, axes = plt.subplots(levels, 2, figsize=(20,24))\n",
    "df = m3_wvlt['LEMD'].loc[:, (slice(1,8), slice(None))]\n",
    "df.plot(ax=axes, subplots=True, colormap=RYCMAP,\n",
    "        legend=False, title=titles)\n",
    "plt.tight_layout()\n",
    "plt.show()"
   ]
  },
  {
   "cell_type": "markdown",
   "metadata": {},
   "source": [
    "## Rome Fiumicino"
   ]
  },
  {
   "cell_type": "code",
   "execution_count": null,
   "metadata": {},
   "outputs": [],
   "source": [
    "f, axes = plt.subplots(levels, 2, figsize=(20,24))\n",
    "df = m3_wvlt['LIRF'].loc[:, (slice(1,8), slice(None))]\n",
    "df.plot(ax=axes, subplots=True, colormap=RYCMAP,\n",
    "        legend=False, title=titles)\n",
    "plt.tight_layout()\n",
    "plt.show()"
   ]
  },
  {
   "cell_type": "markdown",
   "metadata": {},
   "source": [
    "## Athens International"
   ]
  },
  {
   "cell_type": "code",
   "execution_count": null,
   "metadata": {},
   "outputs": [],
   "source": [
    "f, axes = plt.subplots(levels, 2, figsize=(20,24))\n",
    "df = m3_wvlt['LGAV'].loc[:, (slice(1,8), slice(None))]\n",
    "df.plot(ax=axes, subplots=True, colormap=RYCMAP,\n",
    "        legend=False, title=titles)\n",
    "plt.tight_layout()\n",
    "plt.show()"
   ]
  },
  {
   "cell_type": "code",
   "execution_count": null,
   "metadata": {},
   "outputs": [],
   "source": []
  }
 ],
 "metadata": {
  "language_info": {
   "name": "python",
   "pygments_lexer": "ipython3"
  }
 },
 "nbformat": 4,
 "nbformat_minor": 2
}
