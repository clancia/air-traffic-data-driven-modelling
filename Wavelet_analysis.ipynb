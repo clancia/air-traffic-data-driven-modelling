{
 "cells": [
  {
   "cell_type": "markdown",
   "metadata": {},
   "source": [
    "# Introduction\n",
    "\n",
    "Lorem ipsum dolor sit amet, consectetur adipiscing elit. Sed placerat pellentesque tortor at luctus. Cras varius dui odio, sit amet sodales ipsum ornare non. Mauris imperdiet interdum fermentum. Suspendisse ac nisl in dui feugiat pellentesque. In ac condimentum ligula. Nam nec arcu vel eros eleifend ultricies ut eu arcu. Phasellus dictum mauris a nunc tempor pellentesque vitae eget orci. Vestibulum gravida gravida ligula, eget rutrum dui pulvinar iaculis. Curabitur fermentum elementum purus, ac vulputate magna consectetur eu. Phasellus sodales facilisis tortor, nec iaculis ex aliquam a. Phasellus euismod justo a convallis tempus. Curabitur dignissim mi mauris.\n",
    "\n",
    "Maecenas congue ut lacus ac dapibus. Maecenas mollis, sem eget egestas pulvinar, eros augue aliquam neque, id porta neque lacus a augue. Vestibulum at pharetra velit, in facilisis mauris. Aenean sollicitudin elementum mi, eget pharetra nibh vestibulum sodales. Mauris in malesuada ipsum, vitae varius metus. Vestibulum non iaculis nibh. Pellentesque habitant morbi tristique senectus et netus et malesuada fames ac turpis egestas. Phasellus semper sodales metus id commodo. Quisque tincidunt, turpis quis imperdiet sollicitudin, ante dolor imperdiet nibh, nec iaculis risus massa non libero. Donec magna risus, dignissim eu semper ac, vestibulum quis tellus. Interdum et malesuada fames ac ante ipsum primis in faucibus. Integer eu justo non justo ullamcorper cursus eget vulputate erat. Nunc auctor quam posuere, varius dui in, accumsan mi. Donec aliquet lacus vitae orci ultricies feugiat. Proin viverra, felis vel euismod rutrum, ligula risus viverra orci, id maximus nisl urna vel neque. Integer sodales velit urna, in mattis leo ornare eu.\n",
    "\n",
    "Donec molestie eget lectus nec viverra. Nulla sed semper mauris, vitae suscipit mi. Vestibulum vel sodales magna. Vivamus laoreet vestibulum nibh, sed ornare lacus luctus id. Quisque fringilla lacus ac interdum iaculis. Aliquam accumsan nisl et libero dignissim eleifend. Sed magna enim, dictum sodales odio nec, interdum interdum tortor. Morbi sodales sem libero, in interdum diam cursus et. Quisque malesuada imperdiet sem, blandit luctus purus pharetra vel.\n",
    "\n",
    "# Data and Methods"
   ]
  },
  {
   "cell_type": "code",
   "execution_count": null,
   "metadata": {},
   "outputs": [],
   "source": [
    "import numpy as np\n",
    "import pandas as pd\n",
    "import matplotlib.pyplot as plt\n",
    "import pywt\n",
    "import atddm\n",
    "from constants import AIRPORTS, COLORS, TZONES, CODES, BEGDT, ENDDT\n",
    "import seaborn as sns\n",
    "from math import log2, floor\n",
    "from matplotlib import colors\n",
    "from scipy import signal\n",
    "from statsmodels.robust import mad"
   ]
  },
  {
   "cell_type": "code",
   "execution_count": null,
   "metadata": {},
   "outputs": [],
   "source": [
    "BEGDT = pd.Timestamp(BEGDT)\n",
    "ENDDT = pd.Timestamp(ENDDT)\n",
    "INTERVAL = 10          # in minutes\n",
    "TIMESTEP = 60*INTERVAL # in seconds\n",
    "NLEVEL = 8\n",
    "WTYPE = 'db5'\n",
    "# CMAP = colors.ListedColormap(['red', 'darkred',\n",
    "#                               'coral', 'orangered',\n",
    "#                               'goldenrod', 'darkgoldenrod',\n",
    "#                               'limegreen', 'darkgreen',\n",
    "#                               'lightseagreen', 'seagreen',\n",
    "#                               'steelblue', 'cadetblue',\n",
    "#                               'blue', 'navy',\n",
    "#                               'darkviolet', 'purple'\n",
    "#                                ])\n",
    "CMAP = 'tab20'\n",
    "times = np.array([1800, 3600, 10800, 21600, 43200, 86400, 604800]) # in seconds\n",
    "XTICKS = 1./times\n",
    "CUTFRQ = XTICKS[2]\n",
    "XTKLBS = ['.5 h', '1 h', '3 h', '6 h', '12 h', '24 h', '1 w']"
   ]
  },
  {
   "cell_type": "code",
   "execution_count": null,
   "metadata": {},
   "outputs": [],
   "source": [
    "dd = atddm.load(subset=CODES)\n",
    "m3_bin = {}\n",
    "# m1_bin = {}\n",
    "CODES.sort()\n",
    "\n",
    "for code in CODES:\n",
    "    indx = pd.date_range(start=BEGDT, end=ENDDT,\n",
    "                         freq=str(INTERVAL)+'min', tz=TZONES[code])\n",
    "    m3_bin[code] = atddm.binarrivals(dd[code].M3_FL240,\n",
    "                                     interval=INTERVAL,\n",
    "                                     tz=TZONES[code])[indx].fillna(0)\n",
    "#    m1_bin[code] = atddm.binarrivals(dd[code].M1_FL240,\n",
    "#                                     interval=INTERVAL,\n",
    "#                                     tz=TZONES[code])[indx].fillna(0)"
   ]
  },
  {
   "cell_type": "markdown",
   "metadata": {},
   "source": [
    "## Wavelet analysis"
   ]
  },
  {
   "cell_type": "code",
   "execution_count": null,
   "metadata": {},
   "outputs": [],
   "source": [
    "def findm(length, n=NLEVEL):\n",
    "    return floor(length/2**n)\n",
    "\n",
    "\n",
    "def trimmedindex(serie, nlev=NLEVEL):\n",
    "    m = findm(len(serie), nlev)\n",
    "    lenmax = m * 2**nlev\n",
    "    return serie.index[:lenmax]\n",
    "\n",
    "\n",
    "def wvlt_analysis(serie, wtype=WTYPE, nlev=NLEVEL):\n",
    "    df = pd.DataFrame(index=trimmedindex(serie, nlev))\n",
    "    # df['signal'] = serie.iloc[:len(df)]\n",
    "    x = serie.iloc[:len(df)]\n",
    "    for j in range(nlev):\n",
    "        level = j+1\n",
    "        ca, cd = pywt.dwt(x, wtype, mode='per')\n",
    "        x = np.copy(ca)\n",
    "        for i in range(level):\n",
    "            apx = pywt.idwt(ca, None, wtype, mode= 'per')\n",
    "            det = pywt.idwt(None, cd, wtype, mode= 'per')\n",
    "            ca = apx\n",
    "            cd = det\n",
    "        for lbl, vec in zip(['approx', 'detail'], [apx, det]):\n",
    "            label = 'level_{:d}_{:s}'.format(level, lbl)\n",
    "            df[label] = vec\n",
    "    colnames = []\n",
    "    for j in range(nlev):\n",
    "        level = j+1\n",
    "        for lbl in ['approx', 'detail']:\n",
    "            label = (level, lbl)\n",
    "            colnames.append(label)\n",
    "    df.columns = pd.MultiIndex.from_tuples(colnames, names=['level','type'])\n",
    "    df[(0, 'signal')] = serie.iloc[:len(df)]\n",
    "    return df.sort_index(axis=1)\n",
    "\n",
    "\n",
    "def power_spectrum(data):\n",
    "    x = data - data.mean()\n",
    "    ham = signal.hamming(len(data))\n",
    "    x = x*ham\n",
    "    return np.abs(np.fft.fft(x))**2"
   ]
  },
  {
   "cell_type": "code",
   "execution_count": null,
   "metadata": {},
   "outputs": [],
   "source": [
    "# m1_wvlt = {}\n",
    "m3_wvlt = {}\n",
    "m3_ffts = {}\n",
    "levels = 10\n",
    "fsize = (25,35)\n",
    "for code in CODES:\n",
    "    # m1_wvlt[code] = wvlt_analysis(m1_bin[code], nlev=levels)\n",
    "    tmp = wvlt_analysis(m3_bin[code], nlev=levels)\n",
    "    m3_wvlt[code] = tmp.copy(deep=True)\n",
    "    m3_ffts[code] = tmp.apply(power_spectrum)\n",
    "    freqs = np.fft.fftfreq(len(tmp), TIMESTEP)\n",
    "    freqs[freqs <= 0] = np.nan\n",
    "    m3_ffts[code]['freqs'] = freqs\n",
    "    m3_ffts[code] = m3_ffts[code].dropna().set_index('freqs')\n",
    "    \n",
    "    \n",
    "titles = [('Level {:d} :: approximation'.format(i), \n",
    "           'Level {:d} :: detail'.format(i)) for i in range(1, levels+1)]\n",
    "titles = [item for sublist in titles for item in sublist]"
   ]
  },
  {
   "cell_type": "code",
   "execution_count": null,
   "metadata": {},
   "outputs": [],
   "source": [
    "def plot_in_time(icao):\n",
    "    f, axes = plt.subplots(levels, 2, figsize=fsize)\n",
    "    tmp = m3_wvlt[icao].loc[:, (slice(1,levels), slice(None))]\n",
    "    tmp.plot(ax=axes, subplots=True, colormap=CMAP,\n",
    "             legend=False, title=titles)\n",
    "    return (f, axes)\n",
    "\n",
    "\n",
    "def plot_in_freq(icao):\n",
    "    f, axes = plt.subplots(levels, 2, figsize=fsize)\n",
    "    tmp = m3_ffts[icao].loc[:, (slice(1,levels), slice(None))]\n",
    "    tmp.plot(ax=axes, subplots=True, colormap=CMAP,\n",
    "             legend=False, title=titles)\n",
    "    for ax in axes:\n",
    "        ax[0].set_xticks(XTICKS)\n",
    "        ax[0].set_xticklabels(XTKLBS)\n",
    "        ax[0].set_xlim(right=CUTFRQ)\n",
    "        ax[1].set_xticks(XTICKS)\n",
    "        ax[1].set_xticklabels(XTKLBS)\n",
    "        ax[1].set_xlim(left=CUTFRQ)\n",
    "    return (f, axes)"
   ]
  },
  {
   "cell_type": "markdown",
   "metadata": {},
   "source": [
    "# Denoising"
   ]
  },
  {
   "cell_type": "code",
   "execution_count": null,
   "metadata": {},
   "outputs": [],
   "source": [
    "code='EGLL'\n",
    "deno = m3_bin[code].copy(deep=True)\n",
    "noisy_coefs = pywt.wavedec(deno, 'db5', mode='per')"
   ]
  },
  {
   "cell_type": "code",
   "execution_count": null,
   "metadata": {},
   "outputs": [],
   "source": [
    "sigma = mad(noisy_coefs[-1])\n",
    "uthresh = sigma*np.sqrt(2*np.log(len(deno)))\n",
    "denoised = noisy_coefs[:]\n",
    "denoised[1:] = (pywt.threshold(i, uthresh, 'soft') for i in denoised[1:])"
   ]
  },
  {
   "cell_type": "code",
   "execution_count": null,
   "metadata": {},
   "outputs": [],
   "source": [
    "m3_denoised = pywt.waverec(denoised, WTYPE, mode='per').flatten()\n",
    "deno = deno.to_frame(name='original')\n",
    "deno['denoised'] = pd.Series(m3_denoised.flatten(), index=m3.index)"
   ]
  },
  {
   "cell_type": "code",
   "execution_count": null,
   "metadata": {},
   "outputs": [],
   "source": [
    "f, ax = plt.subplots()\n",
    "deno.loc['2016-08-01':'2016-08-07', 'original'].plot(ax=ax, color='cadetblue')\n",
    "deno.loc['2016-08-01':'2016-08-07', 'denoised'].plot(ax=ax, color='navy')\n",
    "plt.show()"
   ]
  },
  {
   "cell_type": "markdown",
   "metadata": {},
   "source": [
    "# Time-Frequency Analysis"
   ]
  },
  {
   "cell_type": "code",
   "execution_count": null,
   "metadata": {},
   "outputs": [],
   "source": [
    "code='EDDF'\n",
    "m3 = m3_bin[code].copy(deep=True)\n",
    "foo = m3.loc['2016-08-01':'2016-08-07']\n",
    "xticks = [144*i for i in range(7)]\n",
    "xticklabels = ['2016-08-01', '2016-08-02', '2016-08-03', '2016-08-04', '2016-08-05', '2016-08-06', '2016-08-07']"
   ]
  },
  {
   "cell_type": "code",
   "execution_count": null,
   "metadata": {},
   "outputs": [],
   "source": [
    "f, ax = plt.subplots()\n",
    "widths = np.arange(1, 31)\n",
    "cwtmatr, freqs = pywt.cwt(foo, widths, 'mexh')\n",
    "im = ax.imshow(cwtmatr, extent=[0, len(foo), 1, 31], cmap='PRGn', aspect='auto',\n",
    "               vmax=abs(cwtmatr).max(), vmin=-abs(cwtmatr).max())\n",
    "ax.set_xticks(xticks)\n",
    "ax.set_xticklabels(xticklabels, rotation=30)\n",
    "plt.show()"
   ]
  },
  {
   "cell_type": "markdown",
   "metadata": {},
   "source": [
    "# Decomposition\n",
    "\n",
    "## Frankfurt"
   ]
  },
  {
   "cell_type": "code",
   "execution_count": null,
   "metadata": {},
   "outputs": [],
   "source": [
    "code = 'EDDF'"
   ]
  },
  {
   "cell_type": "code",
   "execution_count": null,
   "metadata": {},
   "outputs": [],
   "source": [
    "f, axes = plot_in_time(code)\n",
    "f.tight_layout()\n",
    "plt.show()"
   ]
  },
  {
   "cell_type": "code",
   "execution_count": null,
   "metadata": {},
   "outputs": [],
   "source": [
    "f, axes = plot_in_freq(code)\n",
    "f.tight_layout()\n",
    "plt.show()"
   ]
  },
  {
   "cell_type": "markdown",
   "metadata": {},
   "source": [
    "## London Heathrow"
   ]
  },
  {
   "cell_type": "code",
   "execution_count": null,
   "metadata": {},
   "outputs": [],
   "source": [
    "code = 'EGLL'"
   ]
  },
  {
   "cell_type": "code",
   "execution_count": null,
   "metadata": {},
   "outputs": [],
   "source": [
    "f, axes = plot_in_time(code)\n",
    "f.tight_layout()\n",
    "plt.show()"
   ]
  },
  {
   "cell_type": "code",
   "execution_count": null,
   "metadata": {},
   "outputs": [],
   "source": [
    "f, axes = plot_in_freq(code)\n",
    "f.tight_layout()\n",
    "plt.show()"
   ]
  },
  {
   "cell_type": "markdown",
   "metadata": {},
   "source": [
    "## London Gatwick"
   ]
  },
  {
   "cell_type": "code",
   "execution_count": null,
   "metadata": {},
   "outputs": [],
   "source": [
    "code = 'EGKK'"
   ]
  },
  {
   "cell_type": "code",
   "execution_count": null,
   "metadata": {},
   "outputs": [],
   "source": [
    "f, axes = plot_in_time(code)\n",
    "f.tight_layout()\n",
    "plt.show()"
   ]
  },
  {
   "cell_type": "code",
   "execution_count": null,
   "metadata": {},
   "outputs": [],
   "source": [
    "f, axes = plot_in_freq(code)\n",
    "f.tight_layout()\n",
    "plt.show()"
   ]
  },
  {
   "cell_type": "markdown",
   "metadata": {},
   "source": [
    "## Amsterdam Schiphol"
   ]
  },
  {
   "cell_type": "code",
   "execution_count": null,
   "metadata": {},
   "outputs": [],
   "source": [
    "code = 'EHAM'"
   ]
  },
  {
   "cell_type": "code",
   "execution_count": null,
   "metadata": {},
   "outputs": [],
   "source": [
    "f, axes = plot_in_time(code)\n",
    "f.tight_layout()\n",
    "plt.show()"
   ]
  },
  {
   "cell_type": "code",
   "execution_count": null,
   "metadata": {},
   "outputs": [],
   "source": [
    "f, axes = plot_in_freq(code)\n",
    "f.tight_layout()\n",
    "plt.show()"
   ]
  },
  {
   "cell_type": "markdown",
   "metadata": {},
   "source": [
    "## Paris Charles de Gaulle"
   ]
  },
  {
   "cell_type": "code",
   "execution_count": null,
   "metadata": {},
   "outputs": [],
   "source": [
    "code = 'LFPG'"
   ]
  },
  {
   "cell_type": "code",
   "execution_count": null,
   "metadata": {},
   "outputs": [],
   "source": [
    "f, axes = plot_in_time(code)\n",
    "f.tight_layout()\n",
    "plt.show()"
   ]
  },
  {
   "cell_type": "code",
   "execution_count": null,
   "metadata": {},
   "outputs": [],
   "source": [
    "f, axes = plot_in_freq(code)\n",
    "f.tight_layout()\n",
    "plt.show()"
   ]
  },
  {
   "cell_type": "markdown",
   "metadata": {},
   "source": [
    "## Madrid-Barajas"
   ]
  },
  {
   "cell_type": "code",
   "execution_count": null,
   "metadata": {},
   "outputs": [],
   "source": [
    "code = 'LEMD'"
   ]
  },
  {
   "cell_type": "code",
   "execution_count": null,
   "metadata": {},
   "outputs": [],
   "source": [
    "f, axes = plot_in_time(code)\n",
    "f.tight_layout()\n",
    "plt.show()"
   ]
  },
  {
   "cell_type": "code",
   "execution_count": null,
   "metadata": {},
   "outputs": [],
   "source": [
    "f, axes = plot_in_freq(code)\n",
    "f.tight_layout()\n",
    "plt.show()"
   ]
  },
  {
   "cell_type": "markdown",
   "metadata": {},
   "source": [
    "## Rome Fiumicino"
   ]
  },
  {
   "cell_type": "code",
   "execution_count": null,
   "metadata": {},
   "outputs": [],
   "source": [
    "code = 'LIRF'"
   ]
  },
  {
   "cell_type": "code",
   "execution_count": null,
   "metadata": {},
   "outputs": [],
   "source": [
    "f, axes = plot_in_time(code)\n",
    "f.tight_layout()\n",
    "plt.show()"
   ]
  },
  {
   "cell_type": "code",
   "execution_count": null,
   "metadata": {},
   "outputs": [],
   "source": [
    "f, axes = plot_in_freq(code)\n",
    "f.tight_layout()\n",
    "plt.show()"
   ]
  },
  {
   "cell_type": "markdown",
   "metadata": {},
   "source": [
    "## Athens International"
   ]
  },
  {
   "cell_type": "code",
   "execution_count": null,
   "metadata": {},
   "outputs": [],
   "source": [
    "code = 'LGAV'"
   ]
  },
  {
   "cell_type": "code",
   "execution_count": null,
   "metadata": {},
   "outputs": [],
   "source": [
    "f, axes = plot_in_time(code)\n",
    "f.tight_layout()\n",
    "plt.show()"
   ]
  },
  {
   "cell_type": "code",
   "execution_count": null,
   "metadata": {},
   "outputs": [],
   "source": [
    "f, axes = plot_in_freq(code)\n",
    "f.tight_layout()\n",
    "plt.show()"
   ]
  },
  {
   "cell_type": "markdown",
   "metadata": {},
   "source": [
    "# Disruptions"
   ]
  },
  {
   "cell_type": "code",
   "execution_count": null,
   "metadata": {},
   "outputs": [],
   "source": [
    "f, ax = plt.subplots(2, 2)\n",
    "df = m3_wvlt['LIRF']\n",
    "df.loc['2016-06-27':'2016-07-10',(7, 'approx')].plot(ax=ax[0,0],\n",
    "                                                     title='Rome, Alitalia pilots strike, Jul 5')\n",
    "df = m3_wvlt['EDDF']\n",
    "df.loc['2016-07-14':'2016-07-27',(7, 'approx')].plot(ax=ax[0,1],\n",
    "                                                     title='Frankfurt, Unknown event Jul 23')\n",
    "df.loc['2016-08-23':'2016-09-05',(7, 'approx')].plot(ax=ax[1,0],\n",
    "                                                     title='Frankfurt, woman evades security check Aug 31')\n",
    "df = m3_wvlt['LFPG']\n",
    "df.loc['2016-07-22':'2016-08-04',(7, 'approx')].plot(ax=ax[1,1],\n",
    "                                                     title='Paris, Air France pilots strike, Jul 27 - Aug 2')\n",
    "f.tight_layout()\n",
    "plt.show()"
   ]
  },
  {
   "cell_type": "code",
   "execution_count": null,
   "metadata": {},
   "outputs": [],
   "source": []
  }
 ],
 "metadata": {
  "kernelspec": {
   "display_name": "Python 3",
   "language": "python",
   "name": "python3"
  },
  "language_info": {
   "codemirror_mode": {
    "name": "ipython",
    "version": 3
   },
   "file_extension": ".py",
   "mimetype": "text/x-python",
   "name": "python",
   "nbconvert_exporter": "python",
   "pygments_lexer": "ipython3",
   "version": "3.6.3"
  }
 },
 "nbformat": 4,
 "nbformat_minor": 2
}
